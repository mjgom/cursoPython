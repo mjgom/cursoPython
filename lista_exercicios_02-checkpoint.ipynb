{
 "cells": [
  {
   "cell_type": "markdown",
   "metadata": {},
   "source": [
    "# Exercicios lista 02"
   ]
  },
  {
   "cell_type": "markdown",
   "metadata": {},
   "source": [
    "1.Faça um programa que peça a idade do usuário e imprima se ele é\n",
    "maior ou menor de 18 anos."
   ]
  },
  {
   "cell_type": "code",
   "execution_count": 5,
   "metadata": {},
   "outputs": [
    {
     "name": "stdout",
     "output_type": "stream",
     "text": [
      "Qual é sua idade? 12\n",
      "Voce é menor de idade.\n"
     ]
    }
   ],
   "source": [
    "idade = int(input(\"Qual é sua idade? \"))\n",
    "if idade > 18 or idade == 18:\n",
    "    print (\"Voce é maior de idade!\")\n",
    "else:\n",
    "    print (\"Voce é menor de idade.\")"
   ]
  },
  {
   "cell_type": "markdown",
   "metadata": {},
   "source": [
    "2. Faça um programa que peça um número e mostre se ele é positivo\n",
    "ou negativo."
   ]
  },
  {
   "cell_type": "code",
   "execution_count": 9,
   "metadata": {},
   "outputs": [
    {
     "name": "stdout",
     "output_type": "stream",
     "text": [
      "Digite um numero maior ou menor que zero: -1\n",
      "Este numero é negativo\n"
     ]
    }
   ],
   "source": [
    "num = int (input (\"Digite um numero maior ou menor que zero: \"))\n",
    "if num > 0:\n",
    "    print (\"Este numero é positivo\")\n",
    "else:\n",
    "    print (\"Este numero é negativo\")\n",
    "    \n",
    "    \n"
   ]
  },
  {
   "cell_type": "markdown",
   "metadata": {},
   "source": [
    "3. Faça um programa que dado um número digitado, mostre se ele é\n",
    "Par ou Ímpar."
   ]
  },
  {
   "cell_type": "code",
   "execution_count": 17,
   "metadata": {},
   "outputs": [
    {
     "name": "stdout",
     "output_type": "stream",
     "text": [
      "Digite um numero: 2\n",
      "Este numero é par\n"
     ]
    }
   ],
   "source": [
    "num = int(input (\"Digite um numero: \"))\n",
    "if (num % 2 != 0):\n",
    "    print (\"Este numero é impar!\")\n",
    "else:\n",
    "    print(\"Este numero é par\")"
   ]
  },
  {
   "cell_type": "markdown",
   "metadata": {},
   "source": [
    "4. Faça um programa que peça dois números e mostre o maior deles."
   ]
  },
  {
   "cell_type": "code",
   "execution_count": 19,
   "metadata": {},
   "outputs": [
    {
     "name": "stdout",
     "output_type": "stream",
     "text": [
      "Digite um numero qualquer...22\n",
      "Digite outro numero qualquer...12\n",
      "22 é maior que: 12\n"
     ]
    }
   ],
   "source": [
    "num1 = int (input(\"Digite um numero qualquer...\"))\n",
    "num2 = int (input(\"Digite outro numero qualquer...\"))\n",
    "if num1 > num2:\n",
    "    print (num1,\"é maior que:\", num2)\n",
    "else:\n",
    "    print (num2,\"é maior que:\", num1)"
   ]
  },
  {
   "cell_type": "markdown",
   "metadata": {},
   "source": [
    "Faça um programa que leia a validade das informações:\\n\n",
    "a. Idade: entre 0 e 150;\n",
    "b. Salário: maior que 0;\n",
    "c. Sexo: M, F ou Outro;\n",
    "O programa deve imprimir uma mensagem de erro para cada\n",
    "informação inválida."
   ]
  },
  {
   "cell_type": "code",
   "execution_count": 27,
   "metadata": {},
   "outputs": [
    {
     "name": "stdout",
     "output_type": "stream",
     "text": [
      "Digite a sua idade: 20\n",
      "Digite o seu salario: 2000\n",
      "Digite o codigo do seu sexo: M/F/O: M\n"
     ]
    }
   ],
   "source": [
    "idade = int (input (\"Digite a sua idade: \"))\n",
    "if idade < 0 or idade > 160:\n",
    "    print ('Voce digitou errado')\n",
    "\n",
    "salario = int (input (\"Digite o seu salario: \"))\n",
    "if salario < 0:\n",
    "    print ('Voce digitou errado')\n",
    "    \n",
    "sexo = (input (\"Digite o codigo do seu sexo: M/F/O: \"))\n",
    "sexo = sexo.lower()\n",
    "if (sexo != 'm' and sexo != 'f' and sexo != 'o') :\n",
    "    print ('Voce digitou errado')"
   ]
  },
  {
   "cell_type": "markdown",
   "metadata": {},
   "source": [
    "6. Escreva um programa que peça a nota de 3 provas de um aluno e\n",
    "verifique se ele passou o não de ano.\n",
    "Obs.: O aluno irá passar de ano se sua média for maior que 6."
   ]
  },
  {
   "cell_type": "code",
   "execution_count": 30,
   "metadata": {},
   "outputs": [
    {
     "name": "stdout",
     "output_type": "stream",
     "text": [
      "Digite a sua 1a. nota: 5\n",
      "Digite a sua 2a. nota: 5\n",
      "Digite a sua 3a. nota: 5\n",
      "Voce foi reprovado, sorry\n"
     ]
    }
   ],
   "source": [
    "nota1 = int (input (\"Digite a sua 1a. nota: \"))\n",
    "nota2 = int (input (\"Digite a sua 2a. nota: \"))\n",
    "nota3 = int (input (\"Digite a sua 3a. nota: \"))\n",
    "media = (nota1 + nota2 + nota3)/3\n",
    "if media >= 6:\n",
    "    print (\"Voce passou, parabens!\")\n",
    "else:\n",
    "     print (\"Voce foi reprovado, sorry\")"
   ]
  },
  {
   "cell_type": "markdown",
   "metadata": {},
   "source": [
    "7. Faça um programa que mostre uma questão de múltipla escolha com\n",
    "5 opções (letras a, b, c, d, e e). Sabendo a resposta certa, o programa\n",
    "deve receber a opção do usuário e informar a letra que o usuário\n",
    "marcou e se a resposta está certa ou errada."
   ]
  },
  {
   "cell_type": "code",
   "execution_count": 2,
   "metadata": {},
   "outputs": [
    {
     "name": "stdout",
     "output_type": "stream",
     "text": [
      "Digite a opção para a questao abaixo: Qual das expressoes em Python está correta a. x = xx\n",
      "Resposta errada\n"
     ]
    }
   ],
   "source": [
    "resp = input(\"Digite a opção para a questao abaixo: Qual das expressoes em Python está correta a. x = x\")\n",
    "resp = resp.lower()\n",
    "if resp == 'e':\n",
    "    print('Voce respondeu corretamente!')\n",
    "else:\n",
    "    print('Resposta errada')"
   ]
  },
  {
   "cell_type": "markdown",
   "metadata": {},
   "source": [
    "9. Vamos fazer um programa para verificar quem é o assassino de um\n",
    "crime. Para descobrir o assassino, a polícia faz um pequeno\n",
    "questionário com 5 perguntas onde a resposta só pode ser sim ou não:\n",
    "a. Mora perto da vítima?\n",
    "b. Já trabalhou com a vítima?\n",
    "c. Telefonou para a vítima?\n",
    "d. Esteve no local do crime?\n",
    "e. Devia para a vítima?"
   ]
  },
  {
   "cell_type": "code",
   "execution_count": 13,
   "metadata": {},
   "outputs": [
    {
     "name": "stdout",
     "output_type": "stream",
     "text": [
      "Questionario: \n",
      "Mora perto da vitima S/Nn\n",
      "Já trabalhou com a vitima S/Nn\n",
      "Telefonou para a vitima S/Nn\n",
      "Esteve no local do crime S/Nn\n",
      "Devia para a vitima S/Nn\n",
      "Esta liberado\n"
     ]
    }
   ],
   "source": [
    "pontos = 0\n",
    "print (\"Questionario: \")\n",
    "resp1 = input (\"Mora perto da vitima S/N\")\n",
    "resp1 = resp1.lower()\n",
    "if resp1 == 's':\n",
    "    pontos +=1\n",
    "    \n",
    "resp2 = input (\"Já trabalhou com a vitima S/N\")\n",
    "resp2 = resp2.lower()\n",
    "if resp2 == 's':\n",
    "    pontos +=1\n",
    "    \n",
    "resp3 = input (\"Telefonou para a vitima S/N\")\n",
    "resp3 = resp3.lower()\n",
    "if resp3 == 's':\n",
    "    pontos +=1\n",
    "\n",
    "resp4 = input (\"Esteve no local do crime S/N\")\n",
    "resp4 = resp4.lower()\n",
    "if resp4 == 's':\n",
    "    pontos +=1\n",
    "\n",
    "resp5 = input (\"Devia para a vitima S/N\")\n",
    "resp5 = resp5.lower()\n",
    "if resp5 == 's':\n",
    "    pontos +=1\n",
    "    \n",
    "    \n",
    "if pontos == 5:\n",
    "    print ('É suspeito de assassinato')\n",
    "elif pontos >= 3 or pontos == 4:\n",
    "    print ('Pode ser cumplice')\n",
    "elif pontos == 2:\n",
    "    print ('Apenas suspeito')\n",
    "else:\n",
    "    print('Esta liberado')"
   ]
  },
  {
   "cell_type": "markdown",
   "metadata": {},
   "source": [
    "9. Um produto vai sofrer aumento de acordo com a Tabela 1 abaixo. Faça\n",
    "um programa que peça para o usuário digitar o valor do produto de\n",
    "acordo com o preço antigo e escreva uma das mensagens da Tabela\n",
    "2, de acordo com o preço reajustado:"
   ]
  },
  {
   "cell_type": "code",
   "execution_count": 28,
   "metadata": {},
   "outputs": [
    {
     "name": "stdout",
     "output_type": "stream",
     "text": [
      "Digite o preço do produto: 200\n",
      "Muito Caro\n"
     ]
    }
   ],
   "source": [
    "preco = int(input(\"Digite o preço do produto: \"))\n",
    "if preco < 80:\n",
    "    print ('Barato')\n",
    "elif (preco >= 80 and preco <115):\n",
    "    print ('Razoavel')\n",
    "elif (preco >= 115 and preco <150):\n",
    "    print ('Normal')\n",
    "elif (preco >= 150 and preco <170):\n",
    "    print ('Caro')\n",
    "else:\n",
    "    print('Muito Caro')\n"
   ]
  },
  {
   "cell_type": "markdown",
   "metadata": {},
   "source": [
    "# Desafios"
   ]
  },
  {
   "cell_type": "markdown",
   "metadata": {},
   "source": [
    "1. Faça um programa que leia 3 números e informe o maior deles."
   ]
  },
  {
   "cell_type": "code",
   "execution_count": 33,
   "metadata": {},
   "outputs": [
    {
     "name": "stdout",
     "output_type": "stream",
     "text": [
      "Digite um numero qualquer...3\n",
      "Digite outro numero qualquer...2\n",
      "Digite um terceiro numero qualquer...1\n",
      "O maior é o:  3\n"
     ]
    }
   ],
   "source": [
    "num1 = int (input(\"Digite um numero qualquer...\"))\n",
    "num2 = int (input(\"Digite outro numero qualquer...\"))\n",
    "num3 = int (input(\"Digite um terceiro numero qualquer...\"))\n",
    "if num1 > num2 and num1>num3:\n",
    "    print(\"O maior é o: \", num1)\n",
    "if num2 > num1 and num2>num3:\n",
    "    print(\"O maior é o: \", num2)\n",
    "if num3 > num1 and num3>num2:\n",
    "    print(\"O maior é o: \", num3)"
   ]
  },
  {
   "cell_type": "markdown",
   "metadata": {},
   "source": [
    "2. Faça o mesmo programa do exercício anterior, porém com 4\n",
    "números."
   ]
  },
  {
   "cell_type": "code",
   "execution_count": 35,
   "metadata": {},
   "outputs": [
    {
     "name": "stdout",
     "output_type": "stream",
     "text": [
      "Digite um numero qualquer...1\n",
      "Digite outro numero qualquer...3\n",
      "Digite um terceiro numero qualquer...2\n",
      "Digite um quarto numero qualquer...4\n",
      "O maior é o:  4\n"
     ]
    }
   ],
   "source": [
    "num1 = int (input(\"Digite um numero qualquer...\"))\n",
    "num2 = int (input(\"Digite outro numero qualquer...\"))\n",
    "num3 = int (input(\"Digite um terceiro numero qualquer...\"))\n",
    "num4 = int (input(\"Digite um quarto numero qualquer...\"))\n",
    "if num1 > num2 and num1>num3 and num1 >num4:\n",
    "    print(\"O maior é o: \", num1)\n",
    "if num2 > num1 and num2>num3 and num2 >num4:\n",
    "    print(\"O maior é o: \", num2)\n",
    "if num3 > num1 and num3>num2 and num2 >num4:\n",
    "    print(\"O maior é o: \", num3)\n",
    "if num4 > num1 and num4>num2 and num4 >num3:\n",
    "    print(\"O maior é o: \", num4)"
   ]
  },
  {
   "cell_type": "markdown",
   "metadata": {},
   "source": [
    "3. Um hospital quer fazer o diagnóstico de gripe ou dengue a partir de\n",
    "um questionário de sintomas, tendo as perguntas abaixo, faça um\n",
    "programa que faça o diagnóstico deste hospital:\n",
    "a. Sente dor no corpo?\n",
    "b. Você tem febre?\n",
    "c. Você tem tosse?\n",
    "d. Está com congestão nasal?\n",
    "e. Tem manchas pelo corpo?\n",
    "Para o diagnóstico ele tem a seguinte tabela:"
   ]
  },
  {
   "cell_type": "code",
   "execution_count": 1,
   "metadata": {},
   "outputs": [
    {
     "name": "stdout",
     "output_type": "stream",
     "text": [
      "Questionario: \n",
      "Sente dor no corpo? S/Ns\n",
      "Voce tem febre? S/Ns\n",
      "Voce tem tosse S/Ns\n",
      "Esta com congestao nasal S/Ns\n",
      "Tem manchas pelo corpo? S/Ns\n"
     ]
    }
   ],
   "source": [
    "a = False\n",
    "b = False\n",
    "c = False\n",
    "d = False\n",
    "e = False\n",
    "\n",
    "print (\"Questionario: \")\n",
    "resp1 = input (\"Sente dor no corpo? S/N\")\n",
    "resp1 = resp1.lower()\n",
    "if resp1 == 's':\n",
    "    a = True\n",
    "    \n",
    "resp2 = input (\"Voce tem febre? S/N\")\n",
    "resp2 = resp2.lower()\n",
    "if resp2 == 's':\n",
    "    b = True\n",
    "    \n",
    "resp3 = input (\"Voce tem tosse S/N\")\n",
    "resp3 = resp3.lower()\n",
    "if resp3 == 's':\n",
    "    c = True\n",
    "\n",
    "resp4 = input (\"Esta com congestao nasal S/N\")\n",
    "resp4 = resp4.lower()\n",
    "if resp4 == 's':\n",
    "    d = True\n",
    "\n",
    "resp5 = input (\"Tem manchas pelo corpo? S/N\")\n",
    "resp5 = resp5.lower()\n",
    "if resp5 == 's':\n",
    "    e = True\n",
    "    \n",
    "if (a==True and b==True e==True) or c==False or d==False):\n",
    "    print('Dengue')\n",
    "elif (a==True and b==True and c==True and d==True) or e==False):\n",
    "    print('Gripe')\n",
    "elif (b==True and c==True and d==True) or e==False or a==False):\n",
    "    print('Gripe')\n",
    "elif (a==True and b==True and c==True and d==True) or e==False):\n",
    "    print('Gripe')\n",
    "elif (a==True) and (b==False or c==False or d==False or e==False):\n",
    "    print('Sem doenças')\n",
    "elif (a==False and b==False and c==False and d==False and e==False):\n",
    "    print('Sem doenças')"
   ]
  },
  {
   "cell_type": "code",
   "execution_count": null,
   "metadata": {},
   "outputs": [],
   "source": []
  },
  {
   "cell_type": "code",
   "execution_count": null,
   "metadata": {},
   "outputs": [],
   "source": []
  }
 ],
 "metadata": {
  "kernelspec": {
   "display_name": "Python 3",
   "language": "python",
   "name": "python3"
  },
  "language_info": {
   "codemirror_mode": {
    "name": "ipython",
    "version": 3
   },
   "file_extension": ".py",
   "mimetype": "text/x-python",
   "name": "python",
   "nbconvert_exporter": "python",
   "pygments_lexer": "ipython3",
   "version": "3.8.3"
  }
 },
 "nbformat": 4,
 "nbformat_minor": 4
}
