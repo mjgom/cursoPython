{
 "cells": [
  {
   "cell_type": "markdown",
   "metadata": {},
   "source": [
    "# Lista de Exercícios 01\n",
    "---\n",
    "## Variáveis, Input/Output"
   ]
  },
  {
   "cell_type": "markdown",
   "metadata": {},
   "source": [
    "## Questão 01\n",
    "\n",
    "Faça um programa que mostre a mensagem \"Olá, mundo!\" na tela. "
   ]
  },
  {
   "cell_type": "code",
   "execution_count": 1,
   "metadata": {
    "ExecuteTime": {
     "end_time": "2020-08-06T00:12:12.539208Z",
     "start_time": "2020-08-06T00:12:12.526931Z"
    }
   },
   "outputs": [
    {
     "name": "stdout",
     "output_type": "stream",
     "text": [
      "Olá, mundo!\n"
     ]
    }
   ],
   "source": [
    "print('Olá, mundo!')"
   ]
  },
  {
   "cell_type": "markdown",
   "metadata": {},
   "source": [
    "## Questão 2\n",
    "\n",
    "Faça um programa que peça um número e mostre a mensagem \"O\n",
    "número informado foi [número]\". "
   ]
  },
  {
   "cell_type": "code",
   "execution_count": 5,
   "metadata": {
    "ExecuteTime": {
     "end_time": "2020-08-06T00:14:57.236989Z",
     "start_time": "2020-08-06T00:14:56.269858Z"
    }
   },
   "outputs": [
    {
     "name": "stdout",
     "output_type": "stream",
     "text": [
      "Digite um número: 10\n",
      "O número informado foi 10\n"
     ]
    }
   ],
   "source": [
    "numero = input('Digite um número: ')\n",
    "\n",
    "print('O número informado foi', numero)"
   ]
  },
  {
   "cell_type": "markdown",
   "metadata": {},
   "source": [
    "## Questão 3\n",
    "\n",
    "Faça um programa que peça um número para o usuário (string),\n",
    "converta-o para float e depois imprima-o na tela. Você consegue fazer\n",
    "a mesma coisa, porém convertendo para int? "
   ]
  },
  {
   "cell_type": "code",
   "execution_count": 6,
   "metadata": {
    "ExecuteTime": {
     "end_time": "2020-08-06T00:15:59.878122Z",
     "start_time": "2020-08-06T00:15:58.298279Z"
    }
   },
   "outputs": [
    {
     "name": "stdout",
     "output_type": "stream",
     "text": [
      "Digite um número: 10\n",
      "O número informado foi 10.0\n"
     ]
    }
   ],
   "source": [
    "numero = float(input('Digite um número: '))\n",
    "\n",
    "print('O número informado foi', numero)"
   ]
  },
  {
   "cell_type": "code",
   "execution_count": 7,
   "metadata": {
    "ExecuteTime": {
     "end_time": "2020-08-06T00:16:29.967152Z",
     "start_time": "2020-08-06T00:16:29.101199Z"
    }
   },
   "outputs": [
    {
     "name": "stdout",
     "output_type": "stream",
     "text": [
      "Digite um número: 10\n",
      "O número informado foi 10\n"
     ]
    }
   ],
   "source": [
    "numero = int(input('Digite um número: '))\n",
    "\n",
    "print('O número informado foi', numero)"
   ]
  },
  {
   "cell_type": "markdown",
   "metadata": {},
   "source": [
    "## Questão 4\n",
    "\n",
    " Faça um programa que peça dois números e imprima a soma deles. "
   ]
  },
  {
   "cell_type": "code",
   "execution_count": 8,
   "metadata": {
    "ExecuteTime": {
     "end_time": "2020-08-06T00:17:39.901449Z",
     "start_time": "2020-08-06T00:17:35.523943Z"
    }
   },
   "outputs": [
    {
     "name": "stdout",
     "output_type": "stream",
     "text": [
      "Informe o primeiro número: 10\n",
      "Informe o segundo número: 2.345\n",
      "10.0 + 2.345 = 12.345\n"
     ]
    }
   ],
   "source": [
    "num1 = float(input('Informe o primeiro número: '))\n",
    "num2 = float(input('Informe o segundo número: '))\n",
    "\n",
    "print(num1, '+', num2, '=', num1 + num2)"
   ]
  },
  {
   "cell_type": "markdown",
   "metadata": {},
   "source": [
    "## Questão 5\n",
    "\n",
    "Faça um programa que peça as 4 notas bimestrais de um aluno e\n",
    "mostre a média aritmética delas."
   ]
  },
  {
   "cell_type": "code",
   "execution_count": null,
   "metadata": {
    "ExecuteTime": {
     "start_time": "2020-08-06T00:28:23.161Z"
    }
   },
   "outputs": [],
   "source": [
    "nota1 = float(input('Informe sua primeira nota: '))\n",
    "nota2 = float(input('Informe sua segunda nota: '))\n",
    "nota3 = float(input('Informe sua terceira nota: '))\n",
    "nota4 = float(input('Informe sua quarta nota: '))\n",
    "\n",
    "media = (nota1 + nota2 + nota3 + nota4) / 4\n",
    "\n",
    "print('A média do aluno é', media)"
   ]
  },
  {
   "cell_type": "code",
   "execution_count": 1,
   "metadata": {
    "ExecuteTime": {
     "end_time": "2020-08-06T00:29:11.974226Z",
     "start_time": "2020-08-06T00:29:11.962740Z"
    }
   },
   "outputs": [],
   "source": [
    "import datetime"
   ]
  },
  {
   "cell_type": "code",
   "execution_count": 3,
   "metadata": {
    "ExecuteTime": {
     "end_time": "2020-08-06T00:29:20.703752Z",
     "start_time": "2020-08-06T00:29:20.682653Z"
    }
   },
   "outputs": [
    {
     "data": {
      "text/plain": [
       "datetime.datetime(2020, 8, 5, 21, 29, 20, 684443)"
      ]
     },
     "execution_count": 3,
     "metadata": {},
     "output_type": "execute_result"
    }
   ],
   "source": [
    "datetime.datetime.now()"
   ]
  },
  {
   "cell_type": "code",
   "execution_count": null,
   "metadata": {},
   "outputs": [],
   "source": []
  }
 ],
 "metadata": {
  "kernelspec": {
   "display_name": "Python 3",
   "language": "python",
   "name": "python3"
  },
  "language_info": {
   "codemirror_mode": {
    "name": "ipython",
    "version": 3
   },
   "file_extension": ".py",
   "mimetype": "text/x-python",
   "name": "python",
   "nbconvert_exporter": "python",
   "pygments_lexer": "ipython3",
   "version": "3.8.2"
  },
  "varInspector": {
   "cols": {
    "lenName": 16,
    "lenType": 16,
    "lenVar": 40
   },
   "kernels_config": {
    "python": {
     "delete_cmd_postfix": "",
     "delete_cmd_prefix": "del ",
     "library": "var_list.py",
     "varRefreshCmd": "print(var_dic_list())"
    },
    "r": {
     "delete_cmd_postfix": ") ",
     "delete_cmd_prefix": "rm(",
     "library": "var_list.r",
     "varRefreshCmd": "cat(var_dic_list()) "
    }
   },
   "types_to_exclude": [
    "module",
    "function",
    "builtin_function_or_method",
    "instance",
    "_Feature"
   ],
   "window_display": false
  }
 },
 "nbformat": 4,
 "nbformat_minor": 4
}
